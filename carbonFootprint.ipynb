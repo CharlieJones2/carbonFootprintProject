{
 "cells": [
  {
   "cell_type": "markdown",
   "metadata": {},
   "source": [
    "# Determining an Individuals Carbon Footprint\n",
    "\n",
    "Using a synthetically generated dataset, this project seeks to determine which individual characteristics, such as diet, travel type and frequency affect our individual environmental impact, and uses regression analysis to determine how best to minimise ones' impact."
   ]
  },
  {
   "cell_type": "markdown",
   "metadata": {},
   "source": [
    "## Loading and Exploring the Data"
   ]
  },
  {
   "cell_type": "markdown",
   "metadata": {},
   "source": [
    "Import the relevant libraries and create the dataframe:"
   ]
  },
  {
   "cell_type": "code",
   "execution_count": 1,
   "metadata": {},
   "outputs": [],
   "source": [
    "import numpy as np\n",
    "import pandas as pd\n",
    "dataset = pd.read_csv('Carbon Emission.csv')\n",
    "df = pd.DataFrame(dataset)"
   ]
  },
  {
   "cell_type": "markdown",
   "metadata": {},
   "source": [
    "View a sample of the data to get an idea of columns and data types:"
   ]
  },
  {
   "cell_type": "code",
   "execution_count": 2,
   "metadata": {},
   "outputs": [
    {
     "data": {
      "text/html": [
       "<div>\n",
       "<style scoped>\n",
       "    .dataframe tbody tr th:only-of-type {\n",
       "        vertical-align: middle;\n",
       "    }\n",
       "\n",
       "    .dataframe tbody tr th {\n",
       "        vertical-align: top;\n",
       "    }\n",
       "\n",
       "    .dataframe thead th {\n",
       "        text-align: right;\n",
       "    }\n",
       "</style>\n",
       "<table border=\"1\" class=\"dataframe\">\n",
       "  <thead>\n",
       "    <tr style=\"text-align: right;\">\n",
       "      <th></th>\n",
       "      <th>Body Type</th>\n",
       "      <th>Sex</th>\n",
       "      <th>Diet</th>\n",
       "      <th>How Often Shower</th>\n",
       "      <th>Heating Energy Source</th>\n",
       "      <th>Transport</th>\n",
       "      <th>Vehicle Type</th>\n",
       "      <th>Social Activity</th>\n",
       "      <th>Monthly Grocery Bill</th>\n",
       "      <th>Frequency of Traveling by Air</th>\n",
       "      <th>Vehicle Monthly Distance Km</th>\n",
       "      <th>Waste Bag Size</th>\n",
       "      <th>Waste Bag Weekly Count</th>\n",
       "      <th>How Long TV PC Daily Hour</th>\n",
       "      <th>How Many New Clothes Monthly</th>\n",
       "      <th>How Long Internet Daily Hour</th>\n",
       "      <th>Energy efficiency</th>\n",
       "      <th>Recycling</th>\n",
       "      <th>Cooking_With</th>\n",
       "      <th>CarbonEmission</th>\n",
       "    </tr>\n",
       "  </thead>\n",
       "  <tbody>\n",
       "    <tr>\n",
       "      <th>0</th>\n",
       "      <td>overweight</td>\n",
       "      <td>female</td>\n",
       "      <td>pescatarian</td>\n",
       "      <td>daily</td>\n",
       "      <td>coal</td>\n",
       "      <td>public</td>\n",
       "      <td>NaN</td>\n",
       "      <td>often</td>\n",
       "      <td>230</td>\n",
       "      <td>frequently</td>\n",
       "      <td>210</td>\n",
       "      <td>large</td>\n",
       "      <td>4</td>\n",
       "      <td>7</td>\n",
       "      <td>26</td>\n",
       "      <td>1</td>\n",
       "      <td>No</td>\n",
       "      <td>['Metal']</td>\n",
       "      <td>['Stove', 'Oven']</td>\n",
       "      <td>2238</td>\n",
       "    </tr>\n",
       "    <tr>\n",
       "      <th>1</th>\n",
       "      <td>obese</td>\n",
       "      <td>female</td>\n",
       "      <td>vegetarian</td>\n",
       "      <td>less frequently</td>\n",
       "      <td>natural gas</td>\n",
       "      <td>walk/bicycle</td>\n",
       "      <td>NaN</td>\n",
       "      <td>often</td>\n",
       "      <td>114</td>\n",
       "      <td>rarely</td>\n",
       "      <td>9</td>\n",
       "      <td>extra large</td>\n",
       "      <td>3</td>\n",
       "      <td>9</td>\n",
       "      <td>38</td>\n",
       "      <td>5</td>\n",
       "      <td>No</td>\n",
       "      <td>['Metal']</td>\n",
       "      <td>['Stove', 'Microwave']</td>\n",
       "      <td>1892</td>\n",
       "    </tr>\n",
       "    <tr>\n",
       "      <th>2</th>\n",
       "      <td>overweight</td>\n",
       "      <td>male</td>\n",
       "      <td>omnivore</td>\n",
       "      <td>more frequently</td>\n",
       "      <td>wood</td>\n",
       "      <td>private</td>\n",
       "      <td>petrol</td>\n",
       "      <td>never</td>\n",
       "      <td>138</td>\n",
       "      <td>never</td>\n",
       "      <td>2472</td>\n",
       "      <td>small</td>\n",
       "      <td>1</td>\n",
       "      <td>14</td>\n",
       "      <td>47</td>\n",
       "      <td>6</td>\n",
       "      <td>Sometimes</td>\n",
       "      <td>['Metal']</td>\n",
       "      <td>['Oven', 'Microwave']</td>\n",
       "      <td>2595</td>\n",
       "    </tr>\n",
       "    <tr>\n",
       "      <th>3</th>\n",
       "      <td>overweight</td>\n",
       "      <td>male</td>\n",
       "      <td>omnivore</td>\n",
       "      <td>twice a day</td>\n",
       "      <td>wood</td>\n",
       "      <td>walk/bicycle</td>\n",
       "      <td>NaN</td>\n",
       "      <td>sometimes</td>\n",
       "      <td>157</td>\n",
       "      <td>rarely</td>\n",
       "      <td>74</td>\n",
       "      <td>medium</td>\n",
       "      <td>3</td>\n",
       "      <td>20</td>\n",
       "      <td>5</td>\n",
       "      <td>7</td>\n",
       "      <td>Sometimes</td>\n",
       "      <td>['Paper', 'Plastic', 'Glass', 'Metal']</td>\n",
       "      <td>['Microwave', 'Grill', 'Airfryer']</td>\n",
       "      <td>1074</td>\n",
       "    </tr>\n",
       "    <tr>\n",
       "      <th>4</th>\n",
       "      <td>obese</td>\n",
       "      <td>female</td>\n",
       "      <td>vegetarian</td>\n",
       "      <td>daily</td>\n",
       "      <td>coal</td>\n",
       "      <td>private</td>\n",
       "      <td>diesel</td>\n",
       "      <td>often</td>\n",
       "      <td>266</td>\n",
       "      <td>very frequently</td>\n",
       "      <td>8457</td>\n",
       "      <td>large</td>\n",
       "      <td>1</td>\n",
       "      <td>3</td>\n",
       "      <td>5</td>\n",
       "      <td>6</td>\n",
       "      <td>Yes</td>\n",
       "      <td>['Paper']</td>\n",
       "      <td>['Oven']</td>\n",
       "      <td>4743</td>\n",
       "    </tr>\n",
       "  </tbody>\n",
       "</table>\n",
       "</div>"
      ],
      "text/plain": [
       "    Body Type     Sex         Diet How Often Shower Heating Energy Source  \\\n",
       "0  overweight  female  pescatarian            daily                  coal   \n",
       "1       obese  female   vegetarian  less frequently           natural gas   \n",
       "2  overweight    male     omnivore  more frequently                  wood   \n",
       "3  overweight    male     omnivore      twice a day                  wood   \n",
       "4       obese  female   vegetarian            daily                  coal   \n",
       "\n",
       "      Transport Vehicle Type Social Activity  Monthly Grocery Bill  \\\n",
       "0        public          NaN           often                   230   \n",
       "1  walk/bicycle          NaN           often                   114   \n",
       "2       private       petrol           never                   138   \n",
       "3  walk/bicycle          NaN       sometimes                   157   \n",
       "4       private       diesel           often                   266   \n",
       "\n",
       "  Frequency of Traveling by Air  Vehicle Monthly Distance Km Waste Bag Size  \\\n",
       "0                    frequently                          210          large   \n",
       "1                        rarely                            9    extra large   \n",
       "2                         never                         2472          small   \n",
       "3                        rarely                           74         medium   \n",
       "4               very frequently                         8457          large   \n",
       "\n",
       "   Waste Bag Weekly Count  How Long TV PC Daily Hour  \\\n",
       "0                       4                          7   \n",
       "1                       3                          9   \n",
       "2                       1                         14   \n",
       "3                       3                         20   \n",
       "4                       1                          3   \n",
       "\n",
       "   How Many New Clothes Monthly  How Long Internet Daily Hour  \\\n",
       "0                            26                             1   \n",
       "1                            38                             5   \n",
       "2                            47                             6   \n",
       "3                             5                             7   \n",
       "4                             5                             6   \n",
       "\n",
       "  Energy efficiency                               Recycling  \\\n",
       "0                No                               ['Metal']   \n",
       "1                No                               ['Metal']   \n",
       "2         Sometimes                               ['Metal']   \n",
       "3         Sometimes  ['Paper', 'Plastic', 'Glass', 'Metal']   \n",
       "4               Yes                               ['Paper']   \n",
       "\n",
       "                         Cooking_With  CarbonEmission  \n",
       "0                   ['Stove', 'Oven']            2238  \n",
       "1              ['Stove', 'Microwave']            1892  \n",
       "2               ['Oven', 'Microwave']            2595  \n",
       "3  ['Microwave', 'Grill', 'Airfryer']            1074  \n",
       "4                            ['Oven']            4743  "
      ]
     },
     "execution_count": 2,
     "metadata": {},
     "output_type": "execute_result"
    }
   ],
   "source": [
    "df.head()"
   ]
  },
  {
   "cell_type": "markdown",
   "metadata": {},
   "source": [
    "Renaming the columns in a more usable format:"
   ]
  },
  {
   "cell_type": "code",
   "execution_count": 3,
   "metadata": {},
   "outputs": [],
   "source": [
    "df.rename(columns={\n",
    "    'Body Type': 'bodyType', 'Sex': 'sex', 'Diet': 'diet', 'How Often Shower': 'shower', 'Heating Energy Source': 'heating',\n",
    "    'Transport': 'transport', 'Vehicle Type': 'vehicle', 'Social Activity': 'social', 'Monthly Grocery Bill': 'monthlyGrocery',\n",
    "    'Frequency of Traveling by Air': 'airTravel', 'Vehicle Monthly Distance Km': 'monthlyVehicle', 'Waste Bag Size': 'wasteSize',\n",
    "    'Waste Bag Weekly Count': 'wasteCount', 'How Long TV PC Daily Hour': 'dailyScreen', 'How Many New Clothes Monthly': 'monthlyClothes',\n",
    "    'How Long Internet Daily Hour': 'dailyInternet', 'Energy efficiency': 'energyEfficiency', 'Recycling': 'recycling',\n",
    "    'Cooking_With': 'cookType', 'CarbonEmission': 'carbonEmission'}, inplace=True)"
   ]
  },
  {
   "cell_type": "code",
   "execution_count": 4,
   "metadata": {},
   "outputs": [
    {
     "name": "stdout",
     "output_type": "stream",
     "text": [
      "<class 'pandas.core.frame.DataFrame'>\n",
      "RangeIndex: 10000 entries, 0 to 9999\n",
      "Data columns (total 20 columns):\n",
      " #   Column            Non-Null Count  Dtype \n",
      "---  ------            --------------  ----- \n",
      " 0   bodyType          10000 non-null  object\n",
      " 1   sex               10000 non-null  object\n",
      " 2   diet              10000 non-null  object\n",
      " 3   shower            10000 non-null  object\n",
      " 4   heating           10000 non-null  object\n",
      " 5   transport         10000 non-null  object\n",
      " 6   vehicle           3279 non-null   object\n",
      " 7   social            10000 non-null  object\n",
      " 8   monthlyGrocery    10000 non-null  int64 \n",
      " 9   airTravel         10000 non-null  object\n",
      " 10  monthlyVehicle    10000 non-null  int64 \n",
      " 11  wasteSize         10000 non-null  object\n",
      " 12  wasteCount        10000 non-null  int64 \n",
      " 13  dailyScreen       10000 non-null  int64 \n",
      " 14  monthlyClothes    10000 non-null  int64 \n",
      " 15  dailyInternet     10000 non-null  int64 \n",
      " 16  energyEfficiency  10000 non-null  object\n",
      " 17  recycling         10000 non-null  object\n",
      " 18  cookType          10000 non-null  object\n",
      " 19  carbonEmission    10000 non-null  int64 \n",
      "dtypes: int64(7), object(13)\n",
      "memory usage: 1.5+ MB\n"
     ]
    }
   ],
   "source": [
    "df.info()"
   ]
  },
  {
   "cell_type": "code",
   "execution_count": 5,
   "metadata": {},
   "outputs": [],
   "source": [
    "df.replace(np.nan, 'None', inplace=True)"
   ]
  },
  {
   "cell_type": "code",
   "execution_count": 6,
   "metadata": {},
   "outputs": [
    {
     "data": {
      "text/plain": [
       "(10000, 20)"
      ]
     },
     "execution_count": 6,
     "metadata": {},
     "output_type": "execute_result"
    }
   ],
   "source": [
    "df.shape"
   ]
  },
  {
   "cell_type": "code",
   "execution_count": 7,
   "metadata": {},
   "outputs": [
    {
     "data": {
      "text/plain": [
       "bodyType            object\n",
       "sex                 object\n",
       "diet                object\n",
       "shower              object\n",
       "heating             object\n",
       "transport           object\n",
       "vehicle             object\n",
       "social              object\n",
       "monthlyGrocery       int64\n",
       "airTravel           object\n",
       "monthlyVehicle       int64\n",
       "wasteSize           object\n",
       "wasteCount           int64\n",
       "dailyScreen          int64\n",
       "monthlyClothes       int64\n",
       "dailyInternet        int64\n",
       "energyEfficiency    object\n",
       "recycling           object\n",
       "cookType            object\n",
       "carbonEmission       int64\n",
       "dtype: object"
      ]
     },
     "execution_count": 7,
     "metadata": {},
     "output_type": "execute_result"
    }
   ],
   "source": [
    "df.dtypes"
   ]
  },
  {
   "cell_type": "markdown",
   "metadata": {},
   "source": [
    "Checking for outliers:"
   ]
  },
  {
   "cell_type": "code",
   "execution_count": 8,
   "metadata": {},
   "outputs": [
    {
     "data": {
      "image/png": "[encoded data removed]",
      "text/plain": [
       "<Figure size 1000x600 with 7 Axes>"
      ]
     },
     "metadata": {},
     "output_type": "display_data"
    }
   ],
   "source": [
    "import seaborn as sns\n",
    "import matplotlib.pyplot as plt\n",
    "\n",
    "numeric_columns = [column for column in df.columns if df[column].dtype != 'object']\n",
    "\n",
    "plt.figure(figsize=(10, 6))\n",
    "\n",
    "for i, column in enumerate(numeric_columns, 1):\n",
    "    plt.subplot(3, 3, i)\n",
    "    sns.boxplot(y=df[column])\n",
    "\n",
    "plt.tight_layout()\n",
    "plt.show()"
   ]
  },
  {
   "cell_type": "code",
   "execution_count": 9,
   "metadata": {},
   "outputs": [
    {
     "data": {
      "image/png": "[encoded data removed]",
      "text/plain": [
       "<Figure size 640x480 with 1 Axes>"
      ]
     },
     "metadata": {},
     "output_type": "display_data"
    }
   ],
   "source": [
    "sns.histplot(df.monthlyVehicle)\n",
    "plt.show()"
   ]
  },
  {
   "cell_type": "code",
   "execution_count": 10,
   "metadata": {},
   "outputs": [
    {
     "data": {
      "text/plain": [
       "(-10.0, 999.9]      5336\n",
       "(999.9, 1999.8]     2001\n",
       "(8999.1, 9999.0]     360\n",
       "(4999.5, 5999.4]     342\n",
       "(6999.3, 7999.2]     341\n",
       "(7999.2, 8999.1]     337\n",
       "(1999.8, 2999.7]     333\n",
       "(5999.4, 6999.3]     324\n",
       "(2999.7, 3999.6]     322\n",
       "(3999.6, 4999.5]     304\n",
       "Name: monthlyVehicle, dtype: int64"
      ]
     },
     "execution_count": 10,
     "metadata": {},
     "output_type": "execute_result"
    }
   ],
   "source": [
    "df['monthlyVehicle'].value_counts(bins=10)"
   ]
  },
  {
   "cell_type": "markdown",
   "metadata": {},
   "source": [
    "## Aggregated Statistics"
   ]
  },
  {
   "cell_type": "code",
   "execution_count": 11,
   "metadata": {},
   "outputs": [
    {
     "data": {
      "text/html": [
       "<div>\n",
       "<style scoped>\n",
       "    .dataframe tbody tr th:only-of-type {\n",
       "        vertical-align: middle;\n",
       "    }\n",
       "\n",
       "    .dataframe tbody tr th {\n",
       "        vertical-align: top;\n",
       "    }\n",
       "\n",
       "    .dataframe thead th {\n",
       "        text-align: right;\n",
       "    }\n",
       "</style>\n",
       "<table border=\"1\" class=\"dataframe\">\n",
       "  <thead>\n",
       "    <tr style=\"text-align: right;\">\n",
       "      <th></th>\n",
       "      <th>monthlyGrocery</th>\n",
       "      <th>monthlyVehicle</th>\n",
       "      <th>wasteCount</th>\n",
       "      <th>dailyScreen</th>\n",
       "      <th>monthlyClothes</th>\n",
       "      <th>dailyInternet</th>\n",
       "      <th>carbonEmission</th>\n",
       "    </tr>\n",
       "  </thead>\n",
       "  <tbody>\n",
       "    <tr>\n",
       "      <th>count</th>\n",
       "      <td>10000.000000</td>\n",
       "      <td>10000.000000</td>\n",
       "      <td>10000.000000</td>\n",
       "      <td>10000.000000</td>\n",
       "      <td>10000.000000</td>\n",
       "      <td>10000.000000</td>\n",
       "      <td>10000.000000</td>\n",
       "    </tr>\n",
       "    <tr>\n",
       "      <th>mean</th>\n",
       "      <td>173.875200</td>\n",
       "      <td>2031.485900</td>\n",
       "      <td>4.024600</td>\n",
       "      <td>12.139200</td>\n",
       "      <td>25.109000</td>\n",
       "      <td>11.889100</td>\n",
       "      <td>2269.147300</td>\n",
       "    </tr>\n",
       "    <tr>\n",
       "      <th>std</th>\n",
       "      <td>72.234018</td>\n",
       "      <td>2769.715597</td>\n",
       "      <td>1.990375</td>\n",
       "      <td>7.106369</td>\n",
       "      <td>14.698725</td>\n",
       "      <td>7.277218</td>\n",
       "      <td>1017.675247</td>\n",
       "    </tr>\n",
       "    <tr>\n",
       "      <th>min</th>\n",
       "      <td>50.000000</td>\n",
       "      <td>0.000000</td>\n",
       "      <td>1.000000</td>\n",
       "      <td>0.000000</td>\n",
       "      <td>0.000000</td>\n",
       "      <td>0.000000</td>\n",
       "      <td>306.000000</td>\n",
       "    </tr>\n",
       "    <tr>\n",
       "      <th>25%</th>\n",
       "      <td>111.000000</td>\n",
       "      <td>69.000000</td>\n",
       "      <td>2.000000</td>\n",
       "      <td>6.000000</td>\n",
       "      <td>13.000000</td>\n",
       "      <td>6.000000</td>\n",
       "      <td>1538.000000</td>\n",
       "    </tr>\n",
       "    <tr>\n",
       "      <th>50%</th>\n",
       "      <td>173.000000</td>\n",
       "      <td>823.000000</td>\n",
       "      <td>4.000000</td>\n",
       "      <td>12.000000</td>\n",
       "      <td>25.000000</td>\n",
       "      <td>12.000000</td>\n",
       "      <td>2080.000000</td>\n",
       "    </tr>\n",
       "    <tr>\n",
       "      <th>75%</th>\n",
       "      <td>237.000000</td>\n",
       "      <td>2516.750000</td>\n",
       "      <td>6.000000</td>\n",
       "      <td>18.000000</td>\n",
       "      <td>38.000000</td>\n",
       "      <td>18.000000</td>\n",
       "      <td>2768.000000</td>\n",
       "    </tr>\n",
       "    <tr>\n",
       "      <th>max</th>\n",
       "      <td>299.000000</td>\n",
       "      <td>9999.000000</td>\n",
       "      <td>7.000000</td>\n",
       "      <td>24.000000</td>\n",
       "      <td>50.000000</td>\n",
       "      <td>24.000000</td>\n",
       "      <td>8377.000000</td>\n",
       "    </tr>\n",
       "  </tbody>\n",
       "</table>\n",
       "</div>"
      ],
      "text/plain": [
       "       monthlyGrocery  monthlyVehicle    wasteCount   dailyScreen  \\\n",
       "count    10000.000000    10000.000000  10000.000000  10000.000000   \n",
       "mean       173.875200     2031.485900      4.024600     12.139200   \n",
       "std         72.234018     2769.715597      1.990375      7.106369   \n",
       "min         50.000000        0.000000      1.000000      0.000000   \n",
       "25%        111.000000       69.000000      2.000000      6.000000   \n",
       "50%        173.000000      823.000000      4.000000     12.000000   \n",
       "75%        237.000000     2516.750000      6.000000     18.000000   \n",
       "max        299.000000     9999.000000      7.000000     24.000000   \n",
       "\n",
       "       monthlyClothes  dailyInternet  carbonEmission  \n",
       "count    10000.000000   10000.000000    10000.000000  \n",
       "mean        25.109000      11.889100     2269.147300  \n",
       "std         14.698725       7.277218     1017.675247  \n",
       "min          0.000000       0.000000      306.000000  \n",
       "25%         13.000000       6.000000     1538.000000  \n",
       "50%         25.000000      12.000000     2080.000000  \n",
       "75%         38.000000      18.000000     2768.000000  \n",
       "max         50.000000      24.000000     8377.000000  "
      ]
     },
     "execution_count": 11,
     "metadata": {},
     "output_type": "execute_result"
    }
   ],
   "source": [
    "df.describe()"
   ]
  },
  {
   "cell_type": "code",
   "execution_count": 12,
   "metadata": {},
   "outputs": [
    {
     "data": {
      "text/html": [
       "<div>\n",
       "<style scoped>\n",
       "    .dataframe tbody tr th:only-of-type {\n",
       "        vertical-align: middle;\n",
       "    }\n",
       "\n",
       "    .dataframe tbody tr th {\n",
       "        vertical-align: top;\n",
       "    }\n",
       "\n",
       "    .dataframe thead th {\n",
       "        text-align: right;\n",
       "    }\n",
       "</style>\n",
       "<table border=\"1\" class=\"dataframe\">\n",
       "  <thead>\n",
       "    <tr style=\"text-align: right;\">\n",
       "      <th></th>\n",
       "      <th>monthlyGrocery</th>\n",
       "      <th>monthlyVehicle</th>\n",
       "      <th>wasteCount</th>\n",
       "      <th>dailyScreen</th>\n",
       "      <th>monthlyClothes</th>\n",
       "      <th>dailyInternet</th>\n",
       "      <th>carbonEmission</th>\n",
       "    </tr>\n",
       "    <tr>\n",
       "      <th>diet</th>\n",
       "      <th></th>\n",
       "      <th></th>\n",
       "      <th></th>\n",
       "      <th></th>\n",
       "      <th></th>\n",
       "      <th></th>\n",
       "      <th></th>\n",
       "    </tr>\n",
       "  </thead>\n",
       "  <tbody>\n",
       "    <tr>\n",
       "      <th>omnivore</th>\n",
       "      <td>173.908909</td>\n",
       "      <td>2163.101926</td>\n",
       "      <td>4.014848</td>\n",
       "      <td>12.144864</td>\n",
       "      <td>24.973515</td>\n",
       "      <td>11.847913</td>\n",
       "      <td>2391.980738</td>\n",
       "    </tr>\n",
       "    <tr>\n",
       "      <th>pescatarian</th>\n",
       "      <td>175.107674</td>\n",
       "      <td>1954.395850</td>\n",
       "      <td>3.990995</td>\n",
       "      <td>12.111198</td>\n",
       "      <td>25.034064</td>\n",
       "      <td>12.122161</td>\n",
       "      <td>2251.835552</td>\n",
       "    </tr>\n",
       "    <tr>\n",
       "      <th>vegan</th>\n",
       "      <td>171.736083</td>\n",
       "      <td>2049.983580</td>\n",
       "      <td>4.034842</td>\n",
       "      <td>12.284742</td>\n",
       "      <td>25.266720</td>\n",
       "      <td>11.981177</td>\n",
       "      <td>2215.761314</td>\n",
       "    </tr>\n",
       "    <tr>\n",
       "      <th>vegetarian</th>\n",
       "      <td>174.733822</td>\n",
       "      <td>1959.329670</td>\n",
       "      <td>4.059015</td>\n",
       "      <td>12.014652</td>\n",
       "      <td>25.164021</td>\n",
       "      <td>11.595035</td>\n",
       "      <td>2216.814408</td>\n",
       "    </tr>\n",
       "  </tbody>\n",
       "</table>\n",
       "</div>"
      ],
      "text/plain": [
       "             monthlyGrocery  monthlyVehicle  wasteCount  dailyScreen  \\\n",
       "diet                                                                   \n",
       "omnivore         173.908909     2163.101926    4.014848    12.144864   \n",
       "pescatarian      175.107674     1954.395850    3.990995    12.111198   \n",
       "vegan            171.736083     2049.983580    4.034842    12.284742   \n",
       "vegetarian       174.733822     1959.329670    4.059015    12.014652   \n",
       "\n",
       "             monthlyClothes  dailyInternet  carbonEmission  \n",
       "diet                                                        \n",
       "omnivore          24.973515      11.847913     2391.980738  \n",
       "pescatarian       25.034064      12.122161     2251.835552  \n",
       "vegan             25.266720      11.981177     2215.761314  \n",
       "vegetarian        25.164021      11.595035     2216.814408  "
      ]
     },
     "execution_count": 12,
     "metadata": {},
     "output_type": "execute_result"
    }
   ],
   "source": [
    "df_diet = df.groupby(df.diet).mean()\n",
    "df_diet"
   ]
  },
  {
   "cell_type": "code",
   "execution_count": 13,
   "metadata": {},
   "outputs": [
    {
     "data": {
      "text/html": [
       "<div>\n",
       "<style scoped>\n",
       "    .dataframe tbody tr th:only-of-type {\n",
       "        vertical-align: middle;\n",
       "    }\n",
       "\n",
       "    .dataframe tbody tr th {\n",
       "        vertical-align: top;\n",
       "    }\n",
       "\n",
       "    .dataframe thead th {\n",
       "        text-align: right;\n",
       "    }\n",
       "</style>\n",
       "<table border=\"1\" class=\"dataframe\">\n",
       "  <thead>\n",
       "    <tr style=\"text-align: right;\">\n",
       "      <th></th>\n",
       "      <th>monthlyGrocery</th>\n",
       "      <th>monthlyVehicle</th>\n",
       "      <th>wasteCount</th>\n",
       "      <th>dailyScreen</th>\n",
       "      <th>monthlyClothes</th>\n",
       "      <th>dailyInternet</th>\n",
       "      <th>carbonEmission</th>\n",
       "    </tr>\n",
       "    <tr>\n",
       "      <th>sex</th>\n",
       "      <th></th>\n",
       "      <th></th>\n",
       "      <th></th>\n",
       "      <th></th>\n",
       "      <th></th>\n",
       "      <th></th>\n",
       "      <th></th>\n",
       "    </tr>\n",
       "  </thead>\n",
       "  <tbody>\n",
       "    <tr>\n",
       "      <th>female</th>\n",
       "      <td>172.729978</td>\n",
       "      <td>2049.801478</td>\n",
       "      <td>4.027362</td>\n",
       "      <td>12.091672</td>\n",
       "      <td>25.084282</td>\n",
       "      <td>11.875774</td>\n",
       "      <td>2102.597164</td>\n",
       "    </tr>\n",
       "    <tr>\n",
       "      <th>male</th>\n",
       "      <td>175.023633</td>\n",
       "      <td>2013.118967</td>\n",
       "      <td>4.021831</td>\n",
       "      <td>12.186862</td>\n",
       "      <td>25.133787</td>\n",
       "      <td>11.902463</td>\n",
       "      <td>2436.164430</td>\n",
       "    </tr>\n",
       "  </tbody>\n",
       "</table>\n",
       "</div>"
      ],
      "text/plain": [
       "        monthlyGrocery  monthlyVehicle  wasteCount  dailyScreen  \\\n",
       "sex                                                               \n",
       "female      172.729978     2049.801478    4.027362    12.091672   \n",
       "male        175.023633     2013.118967    4.021831    12.186862   \n",
       "\n",
       "        monthlyClothes  dailyInternet  carbonEmission  \n",
       "sex                                                    \n",
       "female       25.084282      11.875774     2102.597164  \n",
       "male         25.133787      11.902463     2436.164430  "
      ]
     },
     "execution_count": 13,
     "metadata": {},
     "output_type": "execute_result"
    }
   ],
   "source": [
    "df_sex = df.groupby('sex').mean()\n",
    "df_sex"
   ]
  },
  {
   "cell_type": "code",
   "execution_count": 14,
   "metadata": {},
   "outputs": [
    {
     "data": {
      "text/html": [
       "<div>\n",
       "<style scoped>\n",
       "    .dataframe tbody tr th:only-of-type {\n",
       "        vertical-align: middle;\n",
       "    }\n",
       "\n",
       "    .dataframe tbody tr th {\n",
       "        vertical-align: top;\n",
       "    }\n",
       "\n",
       "    .dataframe thead th {\n",
       "        text-align: right;\n",
       "    }\n",
       "</style>\n",
       "<table border=\"1\" class=\"dataframe\">\n",
       "  <thead>\n",
       "    <tr style=\"text-align: right;\">\n",
       "      <th></th>\n",
       "      <th>monthlyGrocery</th>\n",
       "      <th>monthlyVehicle</th>\n",
       "      <th>wasteCount</th>\n",
       "      <th>dailyScreen</th>\n",
       "      <th>monthlyClothes</th>\n",
       "      <th>dailyInternet</th>\n",
       "      <th>carbonEmission</th>\n",
       "    </tr>\n",
       "    <tr>\n",
       "      <th>heating</th>\n",
       "      <th></th>\n",
       "      <th></th>\n",
       "      <th></th>\n",
       "      <th></th>\n",
       "      <th></th>\n",
       "      <th></th>\n",
       "      <th></th>\n",
       "    </tr>\n",
       "  </thead>\n",
       "  <tbody>\n",
       "    <tr>\n",
       "      <th>coal</th>\n",
       "      <td>172.761395</td>\n",
       "      <td>2100.658740</td>\n",
       "      <td>3.994055</td>\n",
       "      <td>11.987713</td>\n",
       "      <td>25.171225</td>\n",
       "      <td>12.034879</td>\n",
       "      <td>2495.060246</td>\n",
       "    </tr>\n",
       "    <tr>\n",
       "      <th>electricity</th>\n",
       "      <td>172.877351</td>\n",
       "      <td>2023.771552</td>\n",
       "      <td>4.025862</td>\n",
       "      <td>12.181034</td>\n",
       "      <td>25.164185</td>\n",
       "      <td>11.734326</td>\n",
       "      <td>2039.379702</td>\n",
       "    </tr>\n",
       "    <tr>\n",
       "      <th>natural gas</th>\n",
       "      <td>175.041836</td>\n",
       "      <td>1950.305037</td>\n",
       "      <td>4.060926</td>\n",
       "      <td>12.233144</td>\n",
       "      <td>24.562957</td>\n",
       "      <td>11.872868</td>\n",
       "      <td>2248.124289</td>\n",
       "    </tr>\n",
       "    <tr>\n",
       "      <th>wood</th>\n",
       "      <td>174.883881</td>\n",
       "      <td>2049.768981</td>\n",
       "      <td>4.018270</td>\n",
       "      <td>12.157125</td>\n",
       "      <td>25.533902</td>\n",
       "      <td>11.916362</td>\n",
       "      <td>2296.815672</td>\n",
       "    </tr>\n",
       "  </tbody>\n",
       "</table>\n",
       "</div>"
      ],
      "text/plain": [
       "             monthlyGrocery  monthlyVehicle  wasteCount  dailyScreen  \\\n",
       "heating                                                                \n",
       "coal             172.761395     2100.658740    3.994055    11.987713   \n",
       "electricity      172.877351     2023.771552    4.025862    12.181034   \n",
       "natural gas      175.041836     1950.305037    4.060926    12.233144   \n",
       "wood             174.883881     2049.768981    4.018270    12.157125   \n",
       "\n",
       "             monthlyClothes  dailyInternet  carbonEmission  \n",
       "heating                                                     \n",
       "coal              25.171225      12.034879     2495.060246  \n",
       "electricity       25.164185      11.734326     2039.379702  \n",
       "natural gas       24.562957      11.872868     2248.124289  \n",
       "wood              25.533902      11.916362     2296.815672  "
      ]
     },
     "execution_count": 14,
     "metadata": {},
     "output_type": "execute_result"
    }
   ],
   "source": [
    "df_heat = df.groupby('heating').mean()\n",
    "df_heat"
   ]
  },
  {
   "cell_type": "code",
   "execution_count": 15,
   "metadata": {},
   "outputs": [
    {
     "data": {
      "text/plain": [
       "bodyType                            underweight\n",
       "sex                                      female\n",
       "diet                                 vegetarian\n",
       "shower                              twice a day\n",
       "heating                             electricity\n",
       "transport                          walk/bicycle\n",
       "vehicle                                    None\n",
       "social                                sometimes\n",
       "monthlyGrocery                              251\n",
       "airTravel                                 never\n",
       "monthlyVehicle                               11\n",
       "wasteSize                                medium\n",
       "wasteCount                                    1\n",
       "dailyScreen                                   2\n",
       "monthlyClothes                                3\n",
       "dailyInternet                                14\n",
       "energyEfficiency                            Yes\n",
       "recycling           ['Paper', 'Glass', 'Metal']\n",
       "cookType                      ['Stove', 'Oven']\n",
       "carbonEmission                              306\n",
       "Name: 2292, dtype: object"
      ]
     },
     "execution_count": 15,
     "metadata": {},
     "output_type": "execute_result"
    }
   ],
   "source": [
    "# Finding the person in the dataset with the lowest emissions\n",
    "min_emission_index = df['carbonEmission'].idxmin()\n",
    "min_emission = df.loc[min_emission_index]\n",
    "min_emission"
   ]
  },
  {
   "cell_type": "code",
   "execution_count": 16,
   "metadata": {},
   "outputs": [
    {
     "data": {
      "text/plain": [
       "bodyType                                     obese\n",
       "sex                                           male\n",
       "diet                                    vegetarian\n",
       "shower                                       daily\n",
       "heating                                       coal\n",
       "transport                                  private\n",
       "vehicle                                     petrol\n",
       "social                                       often\n",
       "monthlyGrocery                                 210\n",
       "airTravel                          very frequently\n",
       "monthlyVehicle                                9791\n",
       "wasteSize                                    large\n",
       "wasteCount                                       6\n",
       "dailyScreen                                     16\n",
       "monthlyClothes                                  22\n",
       "dailyInternet                                    7\n",
       "energyEfficiency                               Yes\n",
       "recycling                       ['Paper', 'Glass']\n",
       "cookType            ['Stove', 'Oven', 'Microwave']\n",
       "carbonEmission                                8377\n",
       "Name: 9773, dtype: object"
      ]
     },
     "execution_count": 16,
     "metadata": {},
     "output_type": "execute_result"
    }
   ],
   "source": [
    "# Finding the person in the dataset with the highest emissions\n",
    "max_emission_index = df['carbonEmission'].idxmax()\n",
    "max_emission = df.loc[max_emission_index]\n",
    "max_emission"
   ]
  },
  {
   "cell_type": "markdown",
   "metadata": {},
   "source": [
    "## Data Cleaning and Processing"
   ]
  },
  {
   "cell_type": "code",
   "execution_count": 17,
   "metadata": {},
   "outputs": [],
   "source": [
    "from sklearn.preprocessing import MultiLabelBinarizer, OrdinalEncoder\n",
    "from sklearn.linear_model import LinearRegression"
   ]
  },
  {
   "cell_type": "markdown",
   "metadata": {},
   "source": [
    "Ordinal encoding is used for variables which have a set order or ranking: for example, all other things equal, showering often will always create more emissions than showering never."
   ]
  },
  {
   "cell_type": "code",
   "execution_count": 18,
   "metadata": {},
   "outputs": [
    {
     "data": {
      "text/html": [
       "<div>\n",
       "<style scoped>\n",
       "    .dataframe tbody tr th:only-of-type {\n",
       "        vertical-align: middle;\n",
       "    }\n",
       "\n",
       "    .dataframe tbody tr th {\n",
       "        vertical-align: top;\n",
       "    }\n",
       "\n",
       "    .dataframe thead th {\n",
       "        text-align: right;\n",
       "    }\n",
       "</style>\n",
       "<table border=\"1\" class=\"dataframe\">\n",
       "  <thead>\n",
       "    <tr style=\"text-align: right;\">\n",
       "      <th></th>\n",
       "      <th>bodyType</th>\n",
       "      <th>sex</th>\n",
       "      <th>diet</th>\n",
       "      <th>shower</th>\n",
       "      <th>heating</th>\n",
       "      <th>transport</th>\n",
       "      <th>vehicle</th>\n",
       "      <th>social</th>\n",
       "      <th>monthlyGrocery</th>\n",
       "      <th>airTravel</th>\n",
       "      <th>monthlyVehicle</th>\n",
       "      <th>wasteSize</th>\n",
       "      <th>wasteCount</th>\n",
       "      <th>dailyScreen</th>\n",
       "      <th>monthlyClothes</th>\n",
       "      <th>dailyInternet</th>\n",
       "      <th>energyEfficiency</th>\n",
       "      <th>recycling</th>\n",
       "      <th>cookType</th>\n",
       "      <th>carbonEmission</th>\n",
       "    </tr>\n",
       "  </thead>\n",
       "  <tbody>\n",
       "    <tr>\n",
       "      <th>0</th>\n",
       "      <td>overweight</td>\n",
       "      <td>female</td>\n",
       "      <td>pescatarian</td>\n",
       "      <td>0.0</td>\n",
       "      <td>coal</td>\n",
       "      <td>public</td>\n",
       "      <td>None</td>\n",
       "      <td>often</td>\n",
       "      <td>230</td>\n",
       "      <td>0.0</td>\n",
       "      <td>210</td>\n",
       "      <td>large</td>\n",
       "      <td>4</td>\n",
       "      <td>7</td>\n",
       "      <td>26</td>\n",
       "      <td>1</td>\n",
       "      <td>0.0</td>\n",
       "      <td>['Metal']</td>\n",
       "      <td>['Stove', 'Oven']</td>\n",
       "      <td>2238</td>\n",
       "    </tr>\n",
       "    <tr>\n",
       "      <th>1</th>\n",
       "      <td>obese</td>\n",
       "      <td>female</td>\n",
       "      <td>vegetarian</td>\n",
       "      <td>1.0</td>\n",
       "      <td>natural gas</td>\n",
       "      <td>walk/bicycle</td>\n",
       "      <td>None</td>\n",
       "      <td>often</td>\n",
       "      <td>114</td>\n",
       "      <td>2.0</td>\n",
       "      <td>9</td>\n",
       "      <td>extra large</td>\n",
       "      <td>3</td>\n",
       "      <td>9</td>\n",
       "      <td>38</td>\n",
       "      <td>5</td>\n",
       "      <td>0.0</td>\n",
       "      <td>['Metal']</td>\n",
       "      <td>['Stove', 'Microwave']</td>\n",
       "      <td>1892</td>\n",
       "    </tr>\n",
       "    <tr>\n",
       "      <th>2</th>\n",
       "      <td>overweight</td>\n",
       "      <td>male</td>\n",
       "      <td>omnivore</td>\n",
       "      <td>2.0</td>\n",
       "      <td>wood</td>\n",
       "      <td>private</td>\n",
       "      <td>petrol</td>\n",
       "      <td>never</td>\n",
       "      <td>138</td>\n",
       "      <td>1.0</td>\n",
       "      <td>2472</td>\n",
       "      <td>small</td>\n",
       "      <td>1</td>\n",
       "      <td>14</td>\n",
       "      <td>47</td>\n",
       "      <td>6</td>\n",
       "      <td>1.0</td>\n",
       "      <td>['Metal']</td>\n",
       "      <td>['Oven', 'Microwave']</td>\n",
       "      <td>2595</td>\n",
       "    </tr>\n",
       "    <tr>\n",
       "      <th>3</th>\n",
       "      <td>overweight</td>\n",
       "      <td>male</td>\n",
       "      <td>omnivore</td>\n",
       "      <td>3.0</td>\n",
       "      <td>wood</td>\n",
       "      <td>walk/bicycle</td>\n",
       "      <td>None</td>\n",
       "      <td>sometimes</td>\n",
       "      <td>157</td>\n",
       "      <td>2.0</td>\n",
       "      <td>74</td>\n",
       "      <td>medium</td>\n",
       "      <td>3</td>\n",
       "      <td>20</td>\n",
       "      <td>5</td>\n",
       "      <td>7</td>\n",
       "      <td>1.0</td>\n",
       "      <td>['Paper', 'Plastic', 'Glass', 'Metal']</td>\n",
       "      <td>['Microwave', 'Grill', 'Airfryer']</td>\n",
       "      <td>1074</td>\n",
       "    </tr>\n",
       "    <tr>\n",
       "      <th>4</th>\n",
       "      <td>obese</td>\n",
       "      <td>female</td>\n",
       "      <td>vegetarian</td>\n",
       "      <td>0.0</td>\n",
       "      <td>coal</td>\n",
       "      <td>private</td>\n",
       "      <td>diesel</td>\n",
       "      <td>often</td>\n",
       "      <td>266</td>\n",
       "      <td>3.0</td>\n",
       "      <td>8457</td>\n",
       "      <td>large</td>\n",
       "      <td>1</td>\n",
       "      <td>3</td>\n",
       "      <td>5</td>\n",
       "      <td>6</td>\n",
       "      <td>2.0</td>\n",
       "      <td>['Paper']</td>\n",
       "      <td>['Oven']</td>\n",
       "      <td>4743</td>\n",
       "    </tr>\n",
       "  </tbody>\n",
       "</table>\n",
       "</div>"
      ],
      "text/plain": [
       "     bodyType     sex         diet  shower      heating     transport vehicle  \\\n",
       "0  overweight  female  pescatarian     0.0         coal        public    None   \n",
       "1       obese  female   vegetarian     1.0  natural gas  walk/bicycle    None   \n",
       "2  overweight    male     omnivore     2.0         wood       private  petrol   \n",
       "3  overweight    male     omnivore     3.0         wood  walk/bicycle    None   \n",
       "4       obese  female   vegetarian     0.0         coal       private  diesel   \n",
       "\n",
       "      social  monthlyGrocery  airTravel  monthlyVehicle    wasteSize  \\\n",
       "0      often             230        0.0             210        large   \n",
       "1      often             114        2.0               9  extra large   \n",
       "2      never             138        1.0            2472        small   \n",
       "3  sometimes             157        2.0              74       medium   \n",
       "4      often             266        3.0            8457        large   \n",
       "\n",
       "   wasteCount  dailyScreen  monthlyClothes  dailyInternet  energyEfficiency  \\\n",
       "0           4            7              26              1               0.0   \n",
       "1           3            9              38              5               0.0   \n",
       "2           1           14              47              6               1.0   \n",
       "3           3           20               5              7               1.0   \n",
       "4           1            3               5              6               2.0   \n",
       "\n",
       "                                recycling                            cookType  \\\n",
       "0                               ['Metal']                   ['Stove', 'Oven']   \n",
       "1                               ['Metal']              ['Stove', 'Microwave']   \n",
       "2                               ['Metal']               ['Oven', 'Microwave']   \n",
       "3  ['Paper', 'Plastic', 'Glass', 'Metal']  ['Microwave', 'Grill', 'Airfryer']   \n",
       "4                               ['Paper']                            ['Oven']   \n",
       "\n",
       "   carbonEmission  \n",
       "0            2238  \n",
       "1            1892  \n",
       "2            2595  \n",
       "3            1074  \n",
       "4            4743  "
      ]
     },
     "execution_count": 18,
     "metadata": {},
     "output_type": "execute_result"
    }
   ],
   "source": [
    "ordinal_encoder = OrdinalEncoder()\n",
    "for col in df[['shower', 'airTravel', 'energyEfficiency']]:\n",
    "    df[col] = ordinal_encoder.fit_transform(df[[col]])\n",
    "    \n",
    "df.head()"
   ]
  },
  {
   "cell_type": "markdown",
   "metadata": {},
   "source": [
    "One hot encoding nominal categorical variables - these variables do not, or are assumed not to, have an inherent order regarding emission levels. It is assumed, for example, that being male does not imply a greater level of emissions than being female."
   ]
  },
  {
   "cell_type": "code",
   "execution_count": 19,
   "metadata": {},
   "outputs": [
    {
     "data": {
      "text/plain": [
       "shower                    float64\n",
       "monthlyGrocery              int64\n",
       "airTravel                 float64\n",
       "monthlyVehicle              int64\n",
       "wasteCount                  int64\n",
       "dailyScreen                 int64\n",
       "monthlyClothes              int64\n",
       "dailyInternet               int64\n",
       "energyEfficiency          float64\n",
       "recycling                  object\n",
       "cookType                   object\n",
       "carbonEmission              int64\n",
       "bodyType_obese              uint8\n",
       "bodyType_overweight         uint8\n",
       "bodyType_underweight        uint8\n",
       "sex_male                    uint8\n",
       "diet_pescatarian            uint8\n",
       "diet_vegan                  uint8\n",
       "diet_vegetarian             uint8\n",
       "heating_electricity         uint8\n",
       "heating_natural gas         uint8\n",
       "heating_wood                uint8\n",
       "transport_public            uint8\n",
       "transport_walk/bicycle      uint8\n",
       "vehicle_diesel              uint8\n",
       "vehicle_electric            uint8\n",
       "vehicle_hybrid              uint8\n",
       "vehicle_lpg                 uint8\n",
       "vehicle_petrol              uint8\n",
       "social_often                uint8\n",
       "social_sometimes            uint8\n",
       "wasteSize_large             uint8\n",
       "wasteSize_medium            uint8\n",
       "wasteSize_small             uint8\n",
       "dtype: object"
      ]
     },
     "execution_count": 19,
     "metadata": {},
     "output_type": "execute_result"
    }
   ],
   "source": [
    "df = pd.get_dummies(df, columns=['bodyType', 'sex', 'diet', 'heating', 'transport', 'vehicle', 'social', 'wasteSize'], drop_first=True)\n",
    "df.dtypes"
   ]
  },
  {
   "cell_type": "markdown",
   "metadata": {},
   "source": [
    "Apply the same method for the vehicle column, this time making sure to specify `dummy_na=False` in order to ignore null values. The resulting columns are then only interpreted as 'for those owning a vehicle, ...'."
   ]
  },
  {
   "cell_type": "code",
   "execution_count": 20,
   "metadata": {},
   "outputs": [],
   "source": [
    "# df = pd.get_dummies(df, columns=['vehicle'], dummy_na=True, drop_first=True)"
   ]
  },
  {
   "cell_type": "markdown",
   "metadata": {},
   "source": [
    "After performing the one hot encoding, we are left with the following reference columns:\n",
    "- Body Type: Normal\n",
    "- Sex: Female\n",
    "- Diet: Omnivore\n",
    "- Transport: Private\n",
    "- Social: Never\n",
    "- Waste Size: Extra Large\n",
    "- Vehicle: None"
   ]
  },
  {
   "cell_type": "markdown",
   "metadata": {},
   "source": [
    "Next, applying a multi label binarizer to encode the recycling and cookType columns, both of which have list values.\n",
    "<br>First, the `literal_eval` function from is applied from the `ast` module so that the values can be interpreted as lists."
   ]
  },
  {
   "cell_type": "code",
   "execution_count": 21,
   "metadata": {},
   "outputs": [],
   "source": [
    "import ast\n",
    "df['recycling'] = df['recycling'].apply(ast.literal_eval)\n",
    "df['cookType'] = df['cookType'].apply(ast.literal_eval)"
   ]
  },
  {
   "cell_type": "code",
   "execution_count": 22,
   "metadata": {},
   "outputs": [
    {
     "data": {
      "text/html": [
       "<div>\n",
       "<style scoped>\n",
       "    .dataframe tbody tr th:only-of-type {\n",
       "        vertical-align: middle;\n",
       "    }\n",
       "\n",
       "    .dataframe tbody tr th {\n",
       "        vertical-align: top;\n",
       "    }\n",
       "\n",
       "    .dataframe thead th {\n",
       "        text-align: right;\n",
       "    }\n",
       "</style>\n",
       "<table border=\"1\" class=\"dataframe\">\n",
       "  <thead>\n",
       "    <tr style=\"text-align: right;\">\n",
       "      <th></th>\n",
       "      <th>Glass</th>\n",
       "      <th>Metal</th>\n",
       "      <th>Paper</th>\n",
       "      <th>Plastic</th>\n",
       "    </tr>\n",
       "  </thead>\n",
       "  <tbody>\n",
       "    <tr>\n",
       "      <th>0</th>\n",
       "      <td>0</td>\n",
       "      <td>1</td>\n",
       "      <td>0</td>\n",
       "      <td>0</td>\n",
       "    </tr>\n",
       "    <tr>\n",
       "      <th>1</th>\n",
       "      <td>0</td>\n",
       "      <td>1</td>\n",
       "      <td>0</td>\n",
       "      <td>0</td>\n",
       "    </tr>\n",
       "    <tr>\n",
       "      <th>2</th>\n",
       "      <td>0</td>\n",
       "      <td>1</td>\n",
       "      <td>0</td>\n",
       "      <td>0</td>\n",
       "    </tr>\n",
       "    <tr>\n",
       "      <th>3</th>\n",
       "      <td>1</td>\n",
       "      <td>1</td>\n",
       "      <td>1</td>\n",
       "      <td>1</td>\n",
       "    </tr>\n",
       "    <tr>\n",
       "      <th>4</th>\n",
       "      <td>0</td>\n",
       "      <td>0</td>\n",
       "      <td>1</td>\n",
       "      <td>0</td>\n",
       "    </tr>\n",
       "  </tbody>\n",
       "</table>\n",
       "</div>"
      ],
      "text/plain": [
       "   Glass  Metal  Paper  Plastic\n",
       "0      0      1      0        0\n",
       "1      0      1      0        0\n",
       "2      0      1      0        0\n",
       "3      1      1      1        1\n",
       "4      0      0      1        0"
      ]
     },
     "execution_count": 22,
     "metadata": {},
     "output_type": "execute_result"
    }
   ],
   "source": [
    "mlb = MultiLabelBinarizer()\n",
    "recycling_encoded = mlb.fit_transform(df['recycling'])\n",
    "classes=mlb.classes_\n",
    "recycling_df = pd.DataFrame(recycling_encoded, columns=classes)\n",
    "recycling_df.head()"
   ]
  },
  {
   "cell_type": "markdown",
   "metadata": {},
   "source": [
    "Now values are present in each column where a person recycles that material - unlike one hot encoding, this allows one observation to have values in multiple categories. For example at index 3, this person recycles glass, metal, paper and plastic. A multi label binarizer allows us to represent this where one hot encoding does not."
   ]
  },
  {
   "cell_type": "code",
   "execution_count": 23,
   "metadata": {},
   "outputs": [],
   "source": [
    "recycling_df.columns = ['recycling_' + col.lower() for col in recycling_df.columns]"
   ]
  },
  {
   "cell_type": "markdown",
   "metadata": {},
   "source": [
    "Renaming the columns created by the binarizer, then performing the same operation on the other multi label column."
   ]
  },
  {
   "cell_type": "code",
   "execution_count": 24,
   "metadata": {},
   "outputs": [
    {
     "data": {
      "text/html": [
       "<div>\n",
       "<style scoped>\n",
       "    .dataframe tbody tr th:only-of-type {\n",
       "        vertical-align: middle;\n",
       "    }\n",
       "\n",
       "    .dataframe tbody tr th {\n",
       "        vertical-align: top;\n",
       "    }\n",
       "\n",
       "    .dataframe thead th {\n",
       "        text-align: right;\n",
       "    }\n",
       "</style>\n",
       "<table border=\"1\" class=\"dataframe\">\n",
       "  <thead>\n",
       "    <tr style=\"text-align: right;\">\n",
       "      <th></th>\n",
       "      <th>cookType_airfryer</th>\n",
       "      <th>cookType_grill</th>\n",
       "      <th>cookType_microwave</th>\n",
       "      <th>cookType_oven</th>\n",
       "      <th>cookType_stove</th>\n",
       "    </tr>\n",
       "  </thead>\n",
       "  <tbody>\n",
       "    <tr>\n",
       "      <th>0</th>\n",
       "      <td>0</td>\n",
       "      <td>0</td>\n",
       "      <td>0</td>\n",
       "      <td>1</td>\n",
       "      <td>1</td>\n",
       "    </tr>\n",
       "    <tr>\n",
       "      <th>1</th>\n",
       "      <td>0</td>\n",
       "      <td>0</td>\n",
       "      <td>1</td>\n",
       "      <td>0</td>\n",
       "      <td>1</td>\n",
       "    </tr>\n",
       "    <tr>\n",
       "      <th>2</th>\n",
       "      <td>0</td>\n",
       "      <td>0</td>\n",
       "      <td>1</td>\n",
       "      <td>1</td>\n",
       "      <td>0</td>\n",
       "    </tr>\n",
       "    <tr>\n",
       "      <th>3</th>\n",
       "      <td>1</td>\n",
       "      <td>1</td>\n",
       "      <td>1</td>\n",
       "      <td>0</td>\n",
       "      <td>0</td>\n",
       "    </tr>\n",
       "    <tr>\n",
       "      <th>4</th>\n",
       "      <td>0</td>\n",
       "      <td>0</td>\n",
       "      <td>0</td>\n",
       "      <td>1</td>\n",
       "      <td>0</td>\n",
       "    </tr>\n",
       "  </tbody>\n",
       "</table>\n",
       "</div>"
      ],
      "text/plain": [
       "   cookType_airfryer  cookType_grill  cookType_microwave  cookType_oven  \\\n",
       "0                  0               0                   0              1   \n",
       "1                  0               0                   1              0   \n",
       "2                  0               0                   1              1   \n",
       "3                  1               1                   1              0   \n",
       "4                  0               0                   0              1   \n",
       "\n",
       "   cookType_stove  \n",
       "0               1  \n",
       "1               1  \n",
       "2               0  \n",
       "3               0  \n",
       "4               0  "
      ]
     },
     "execution_count": 24,
     "metadata": {},
     "output_type": "execute_result"
    }
   ],
   "source": [
    "cooktype_encoded = mlb.fit_transform(df['cookType'])\n",
    "classes=mlb.classes_\n",
    "cooktype_df = pd.DataFrame(cooktype_encoded, columns=classes)\n",
    "cooktype_df.columns = ['cookType_' + col.lower() for col in cooktype_df.columns]\n",
    "cooktype_df.head()"
   ]
  },
  {
   "cell_type": "markdown",
   "metadata": {},
   "source": [
    "Next, the encoded columns above should be added back into the main dataframe, with the original columns removed."
   ]
  },
  {
   "cell_type": "code",
   "execution_count": 25,
   "metadata": {},
   "outputs": [
    {
     "data": {
      "text/html": [
       "<div>\n",
       "<style scoped>\n",
       "    .dataframe tbody tr th:only-of-type {\n",
       "        vertical-align: middle;\n",
       "    }\n",
       "\n",
       "    .dataframe tbody tr th {\n",
       "        vertical-align: top;\n",
       "    }\n",
       "\n",
       "    .dataframe thead th {\n",
       "        text-align: right;\n",
       "    }\n",
       "</style>\n",
       "<table border=\"1\" class=\"dataframe\">\n",
       "  <thead>\n",
       "    <tr style=\"text-align: right;\">\n",
       "      <th></th>\n",
       "      <th>shower</th>\n",
       "      <th>monthlyGrocery</th>\n",
       "      <th>airTravel</th>\n",
       "      <th>monthlyVehicle</th>\n",
       "      <th>wasteCount</th>\n",
       "      <th>dailyScreen</th>\n",
       "      <th>monthlyClothes</th>\n",
       "      <th>dailyInternet</th>\n",
       "      <th>energyEfficiency</th>\n",
       "      <th>carbonEmission</th>\n",
       "      <th>...</th>\n",
       "      <th>wasteSize_small</th>\n",
       "      <th>recycling_glass</th>\n",
       "      <th>recycling_metal</th>\n",
       "      <th>recycling_paper</th>\n",
       "      <th>recycling_plastic</th>\n",
       "      <th>cookType_airfryer</th>\n",
       "      <th>cookType_grill</th>\n",
       "      <th>cookType_microwave</th>\n",
       "      <th>cookType_oven</th>\n",
       "      <th>cookType_stove</th>\n",
       "    </tr>\n",
       "  </thead>\n",
       "  <tbody>\n",
       "    <tr>\n",
       "      <th>0</th>\n",
       "      <td>0.0</td>\n",
       "      <td>230</td>\n",
       "      <td>0.0</td>\n",
       "      <td>210</td>\n",
       "      <td>4</td>\n",
       "      <td>7</td>\n",
       "      <td>26</td>\n",
       "      <td>1</td>\n",
       "      <td>0.0</td>\n",
       "      <td>2238</td>\n",
       "      <td>...</td>\n",
       "      <td>0</td>\n",
       "      <td>0</td>\n",
       "      <td>1</td>\n",
       "      <td>0</td>\n",
       "      <td>0</td>\n",
       "      <td>0</td>\n",
       "      <td>0</td>\n",
       "      <td>0</td>\n",
       "      <td>1</td>\n",
       "      <td>1</td>\n",
       "    </tr>\n",
       "    <tr>\n",
       "      <th>1</th>\n",
       "      <td>1.0</td>\n",
       "      <td>114</td>\n",
       "      <td>2.0</td>\n",
       "      <td>9</td>\n",
       "      <td>3</td>\n",
       "      <td>9</td>\n",
       "      <td>38</td>\n",
       "      <td>5</td>\n",
       "      <td>0.0</td>\n",
       "      <td>1892</td>\n",
       "      <td>...</td>\n",
       "      <td>0</td>\n",
       "      <td>0</td>\n",
       "      <td>1</td>\n",
       "      <td>0</td>\n",
       "      <td>0</td>\n",
       "      <td>0</td>\n",
       "      <td>0</td>\n",
       "      <td>1</td>\n",
       "      <td>0</td>\n",
       "      <td>1</td>\n",
       "    </tr>\n",
       "    <tr>\n",
       "      <th>2</th>\n",
       "      <td>2.0</td>\n",
       "      <td>138</td>\n",
       "      <td>1.0</td>\n",
       "      <td>2472</td>\n",
       "      <td>1</td>\n",
       "      <td>14</td>\n",
       "      <td>47</td>\n",
       "      <td>6</td>\n",
       "      <td>1.0</td>\n",
       "      <td>2595</td>\n",
       "      <td>...</td>\n",
       "      <td>1</td>\n",
       "      <td>0</td>\n",
       "      <td>1</td>\n",
       "      <td>0</td>\n",
       "      <td>0</td>\n",
       "      <td>0</td>\n",
       "      <td>0</td>\n",
       "      <td>1</td>\n",
       "      <td>1</td>\n",
       "      <td>0</td>\n",
       "    </tr>\n",
       "    <tr>\n",
       "      <th>3</th>\n",
       "      <td>3.0</td>\n",
       "      <td>157</td>\n",
       "      <td>2.0</td>\n",
       "      <td>74</td>\n",
       "      <td>3</td>\n",
       "      <td>20</td>\n",
       "      <td>5</td>\n",
       "      <td>7</td>\n",
       "      <td>1.0</td>\n",
       "      <td>1074</td>\n",
       "      <td>...</td>\n",
       "      <td>0</td>\n",
       "      <td>1</td>\n",
       "      <td>1</td>\n",
       "      <td>1</td>\n",
       "      <td>1</td>\n",
       "      <td>1</td>\n",
       "      <td>1</td>\n",
       "      <td>1</td>\n",
       "      <td>0</td>\n",
       "      <td>0</td>\n",
       "    </tr>\n",
       "    <tr>\n",
       "      <th>4</th>\n",
       "      <td>0.0</td>\n",
       "      <td>266</td>\n",
       "      <td>3.0</td>\n",
       "      <td>8457</td>\n",
       "      <td>1</td>\n",
       "      <td>3</td>\n",
       "      <td>5</td>\n",
       "      <td>6</td>\n",
       "      <td>2.0</td>\n",
       "      <td>4743</td>\n",
       "      <td>...</td>\n",
       "      <td>0</td>\n",
       "      <td>0</td>\n",
       "      <td>0</td>\n",
       "      <td>1</td>\n",
       "      <td>0</td>\n",
       "      <td>0</td>\n",
       "      <td>0</td>\n",
       "      <td>0</td>\n",
       "      <td>1</td>\n",
       "      <td>0</td>\n",
       "    </tr>\n",
       "  </tbody>\n",
       "</table>\n",
       "<p>5 rows × 41 columns</p>\n",
       "</div>"
      ],
      "text/plain": [
       "   shower  monthlyGrocery  airTravel  monthlyVehicle  wasteCount  dailyScreen  \\\n",
       "0     0.0             230        0.0             210           4            7   \n",
       "1     1.0             114        2.0               9           3            9   \n",
       "2     2.0             138        1.0            2472           1           14   \n",
       "3     3.0             157        2.0              74           3           20   \n",
       "4     0.0             266        3.0            8457           1            3   \n",
       "\n",
       "   monthlyClothes  dailyInternet  energyEfficiency  carbonEmission  ...  \\\n",
       "0              26              1               0.0            2238  ...   \n",
       "1              38              5               0.0            1892  ...   \n",
       "2              47              6               1.0            2595  ...   \n",
       "3               5              7               1.0            1074  ...   \n",
       "4               5              6               2.0            4743  ...   \n",
       "\n",
       "   wasteSize_small  recycling_glass  recycling_metal  recycling_paper  \\\n",
       "0                0                0                1                0   \n",
       "1                0                0                1                0   \n",
       "2                1                0                1                0   \n",
       "3                0                1                1                1   \n",
       "4                0                0                0                1   \n",
       "\n",
       "   recycling_plastic  cookType_airfryer  cookType_grill  cookType_microwave  \\\n",
       "0                  0                  0               0                   0   \n",
       "1                  0                  0               0                   1   \n",
       "2                  0                  0               0                   1   \n",
       "3                  1                  1               1                   1   \n",
       "4                  0                  0               0                   0   \n",
       "\n",
       "   cookType_oven  cookType_stove  \n",
       "0              1               1  \n",
       "1              0               1  \n",
       "2              1               0  \n",
       "3              0               0  \n",
       "4              1               0  \n",
       "\n",
       "[5 rows x 41 columns]"
      ]
     },
     "execution_count": 25,
     "metadata": {},
     "output_type": "execute_result"
    }
   ],
   "source": [
    "df = df.join(recycling_df)\n",
    "df = df.join(cooktype_df)\n",
    "df.drop(columns=['recycling', 'cookType'], inplace=True)\n",
    "df.head()"
   ]
  },
  {
   "cell_type": "code",
   "execution_count": 26,
   "metadata": {},
   "outputs": [
    {
     "data": {
      "text/plain": [
       "shower                    float64\n",
       "monthlyGrocery              int64\n",
       "airTravel                 float64\n",
       "monthlyVehicle              int64\n",
       "wasteCount                  int64\n",
       "dailyScreen                 int64\n",
       "monthlyClothes              int64\n",
       "dailyInternet               int64\n",
       "energyEfficiency          float64\n",
       "carbonEmission              int64\n",
       "bodyType_obese              uint8\n",
       "bodyType_overweight         uint8\n",
       "bodyType_underweight        uint8\n",
       "sex_male                    uint8\n",
       "diet_pescatarian            uint8\n",
       "diet_vegan                  uint8\n",
       "diet_vegetarian             uint8\n",
       "heating_electricity         uint8\n",
       "heating_natural gas         uint8\n",
       "heating_wood                uint8\n",
       "transport_public            uint8\n",
       "transport_walk/bicycle      uint8\n",
       "vehicle_diesel              uint8\n",
       "vehicle_electric            uint8\n",
       "vehicle_hybrid              uint8\n",
       "vehicle_lpg                 uint8\n",
       "vehicle_petrol              uint8\n",
       "social_often                uint8\n",
       "social_sometimes            uint8\n",
       "wasteSize_large             uint8\n",
       "wasteSize_medium            uint8\n",
       "wasteSize_small             uint8\n",
       "recycling_glass             int32\n",
       "recycling_metal             int32\n",
       "recycling_paper             int32\n",
       "recycling_plastic           int32\n",
       "cookType_airfryer           int32\n",
       "cookType_grill              int32\n",
       "cookType_microwave          int32\n",
       "cookType_oven               int32\n",
       "cookType_stove              int32\n",
       "dtype: object"
      ]
     },
     "execution_count": 26,
     "metadata": {},
     "output_type": "execute_result"
    }
   ],
   "source": [
    "df.dtypes"
   ]
  },
  {
   "cell_type": "markdown",
   "metadata": {},
   "source": [
    "## Linear Regression Model"
   ]
  },
  {
   "cell_type": "markdown",
   "metadata": {},
   "source": [
    "Partition the data into training and testing sets, then fit the model on the training data."
   ]
  },
  {
   "cell_type": "code",
   "execution_count": 27,
   "metadata": {},
   "outputs": [
    {
     "data": {
      "text/plain": [
       "LinearRegression()"
      ]
     },
     "execution_count": 27,
     "metadata": {},
     "output_type": "execute_result"
    }
   ],
   "source": [
    "from sklearn.linear_model import LinearRegression\n",
    "from sklearn.model_selection import train_test_split\n",
    "\n",
    "X = df.drop('carbonEmission', axis=1)\n",
    "y = df['carbonEmission']\n",
    "\n",
    "X_train, X_test, y_train, y_test = train_test_split(X, y, test_size=0.2, random_state=42)\n",
    "\n",
    "lr = LinearRegression()\n",
    "\n",
    "lr.fit(X_train, y_train)"
   ]
  },
  {
   "cell_type": "markdown",
   "metadata": {},
   "source": [
    "Test the accuracy and explanatory power of the model by creating predicted values, then comparing these to the test set."
   ]
  },
  {
   "cell_type": "code",
   "execution_count": 28,
   "metadata": {},
   "outputs": [
    {
     "name": "stdout",
     "output_type": "stream",
     "text": [
      "Mean Absolute Error: 457.24241543579103\n",
      " Mean Squared Error: 261326.2536649729\n",
      " R Squared: 0.7486542659037646\n"
     ]
    }
   ],
   "source": [
    "from sklearn.metrics import mean_absolute_error, mean_squared_error, r2_score\n",
    "\n",
    "y_pred = lr.predict(X_test)\n",
    "residuals = y_test - y_pred\n",
    "mae = mean_absolute_error(y_test, y_pred)\n",
    "mse = mean_squared_error(y_test, y_pred)\n",
    "r2 = r2_score(y_test, y_pred)\n",
    "\n",
    "print(f'Mean Absolute Error: {mae}\\n Mean Squared Error: {mse}\\n R Squared: {r2}')"
   ]
  },
  {
   "cell_type": "markdown",
   "metadata": {},
   "source": [
    "## Testing Assumptions"
   ]
  },
  {
   "cell_type": "markdown",
   "metadata": {},
   "source": [
    "1. Linearity: test by plotting observed values (the test set) vs predicted values (the values predicted by the model). A linear relationship is present, implying the linearity assumption is met."
   ]
  },
  {
   "cell_type": "code",
   "execution_count": 29,
   "metadata": {},
   "outputs": [
    {
     "data": {
      "image/png": "[encoded data removed]",
      "text/plain": [
       "<Figure size 640x480 with 1 Axes>"
      ]
     },
     "metadata": {},
     "output_type": "display_data"
    }
   ],
   "source": [
    "# testing linearity\n",
    "import matplotlib.pyplot as plt\n",
    "import seaborn as sns\n",
    "\n",
    "sns.regplot(x=y_pred, y=y_test, line_kws={\"color\": \"red\"})\n",
    "plt.xlabel('Predicted values')\n",
    "plt.ylabel('Observed values')\n",
    "plt.show()"
   ]
  },
  {
   "cell_type": "markdown",
   "metadata": {},
   "source": [
    "2. Independence - This can be assumed seeing as the data is collected randomly and samples are independent of one another. The data is not time series so autocorrelation is not present."
   ]
  },
  {
   "cell_type": "markdown",
   "metadata": {},
   "source": [
    "3. Homoskedasticity - test by plotting residuals vs predicted values. A random pattern is observed, implying the homoskedasticity assumption is met."
   ]
  },
  {
   "cell_type": "code",
   "execution_count": 30,
   "metadata": {},
   "outputs": [
    {
     "data": {
      "image/png": "[encoded data removed]",
      "text/plain": [
       "<Figure size 640x480 with 1 Axes>"
      ]
     },
     "metadata": {},
     "output_type": "display_data"
    }
   ],
   "source": [
    "plt.scatter(y_pred, residuals)\n",
    "plt.xlabel('Predicted values')\n",
    "plt.ylabel('Residuals')\n",
    "plt.show()"
   ]
  },
  {
   "cell_type": "markdown",
   "metadata": {},
   "source": [
    "4. Normality - test by plotting a histogram of the residuals. The residuals indicate a bimodal distribution, violating the normality assumption."
   ]
  },
  {
   "cell_type": "code",
   "execution_count": 31,
   "metadata": {},
   "outputs": [
    {
     "data": {
      "image/png": "[encoded data removed]",
      "text/plain": [
       "<Figure size 640x480 with 1 Axes>"
      ]
     },
     "metadata": {},
     "output_type": "display_data"
    }
   ],
   "source": [
    "sns.histplot(residuals, bins=30, kde=True)\n",
    "plt.show()\n"
   ]
  },
  {
   "cell_type": "code",
   "execution_count": 32,
   "metadata": {},
   "outputs": [
    {
     "data": {
      "image/png": "[encoded data removed]",
      "text/plain": [
       "<Figure size 640x480 with 1 Axes>"
      ]
     },
     "metadata": {},
     "output_type": "display_data"
    }
   ],
   "source": [
    "import pylab\n",
    "import scipy.stats as stats\n",
    "\n",
    "stats.probplot(residuals, dist='norm', plot=pylab)\n",
    "pylab.show()"
   ]
  },
  {
   "cell_type": "markdown",
   "metadata": {},
   "source": [
    "## Interpreting Model Statistics"
   ]
  },
  {
   "cell_type": "markdown",
   "metadata": {},
   "source": [
    "Using the `statsmodels` module allows for a more conventionally presented summary of the model:"
   ]
  },
  {
   "cell_type": "code",
   "execution_count": 33,
   "metadata": {},
   "outputs": [
    {
     "name": "stdout",
     "output_type": "stream",
     "text": [
      "                            OLS Regression Results                            \n",
      "==============================================================================\n",
      "Dep. Variable:         carbonEmission   R-squared:                       0.744\n",
      "Model:                            OLS   Adj. R-squared:                  0.743\n",
      "Method:                 Least Squares   F-statistic:                     609.8\n",
      "Date:                Tue, 05 Mar 2024   Prob (F-statistic):               0.00\n",
      "Time:                        09:50:23   Log-Likelihood:                -61294.\n",
      "No. Observations:                8000   AIC:                         1.227e+05\n",
      "Df Residuals:                    7961   BIC:                         1.229e+05\n",
      "Df Model:                          38                                         \n",
      "Covariance Type:            nonrobust                                         \n",
      "==========================================================================================\n",
      "                             coef    std err          t      P>|t|      [0.025      0.975]\n",
      "------------------------------------------------------------------------------------------\n",
      "const                    818.4244     36.409     22.479      0.000     747.054     889.795\n",
      "shower                    11.8281      5.138      2.302      0.021       1.755      21.901\n",
      "monthlyGrocery             0.8929      0.080     11.181      0.000       0.736       1.049\n",
      "airTravel                216.3002      5.155     41.963      0.000     206.196     226.404\n",
      "monthlyVehicle             0.1981      0.003     57.770      0.000       0.191       0.205\n",
      "wasteCount                85.1906      2.911     29.266      0.000      79.484      90.897\n",
      "dailyScreen                2.9225      0.811      3.605      0.000       1.333       4.512\n",
      "monthlyClothes            13.5456      0.392     34.552      0.000      12.777      14.314\n",
      "dailyInternet              6.4798      0.795      8.150      0.000       4.921       8.038\n",
      "energyEfficiency         -35.3337      7.155     -4.939      0.000     -49.359     -21.309\n",
      "bodyType_obese           423.9131     16.325     25.967      0.000     391.912     455.915\n",
      "bodyType_overweight      205.6634     16.385     12.552      0.000     173.544     237.782\n",
      "bodyType_underweight    -116.1673     16.312     -7.122      0.000    -148.142     -84.192\n",
      "sex_male                 329.0051     11.559     28.463      0.000     306.346     351.664\n",
      "diet_pescatarian         -80.0932     16.300     -4.914      0.000    -112.046     -48.140\n",
      "diet_vegan              -141.7465     16.441     -8.622      0.000    -173.975    -109.518\n",
      "diet_vegetarian         -124.8153     16.401     -7.610      0.000    -156.965     -92.666\n",
      "heating_electricity     -426.2835     16.215    -26.290      0.000    -458.069    -394.498\n",
      "heating_natural gas     -202.5043     16.399    -12.349      0.000    -234.650    -170.359\n",
      "heating_wood            -193.5383     16.383    -11.813      0.000    -225.654    -161.423\n",
      "transport_public         -50.5786     14.442     -3.502      0.000     -78.888     -22.269\n",
      "transport_walk/bicycle    71.7070     16.372      4.380      0.000      39.615     103.799\n",
      "vehicle_diesel           391.5160     22.424     17.460      0.000     347.559     435.473\n",
      "vehicle_electric        -910.3496     21.681    -41.988      0.000    -952.850    -867.849\n",
      "vehicle_hybrid           -96.9372     22.209     -4.365      0.000    -140.473     -53.402\n",
      "vehicle_lpg              461.9782     21.549     21.438      0.000     419.736     504.220\n",
      "vehicle_petrol           951.0888     22.096     43.043      0.000     907.774     994.404\n",
      "social_often             164.7806     14.094     11.692      0.000     137.154     192.408\n",
      "social_sometimes          77.5427     14.122      5.491      0.000      49.860     105.226\n",
      "wasteSize_large         -117.9376     16.295     -7.238      0.000    -149.881     -85.995\n",
      "wasteSize_medium        -270.6682     16.400    -16.505      0.000    -302.816    -238.521\n",
      "wasteSize_small         -381.8241     16.269    -23.469      0.000    -413.716    -349.932\n",
      "recycling_glass          -94.7930     11.551     -8.206      0.000    -117.436     -72.150\n",
      "recycling_metal         -119.4480     11.568    -10.326      0.000    -142.124     -96.772\n",
      "recycling_paper         -136.9986     11.562    -11.849      0.000    -159.663    -114.334\n",
      "recycling_plastic        -65.8926     11.555     -5.703      0.000     -88.543     -43.242\n",
      "cookType_airfryer         18.2688      5.773      3.164      0.002       6.952      29.586\n",
      "cookType_grill            18.2688      5.773      3.164      0.002       6.952      29.586\n",
      "cookType_microwave        -4.1902     11.545     -0.363      0.717     -26.822      18.441\n",
      "cookType_oven             51.4527     11.551      4.454      0.000      28.809      74.096\n",
      "cookType_stove            18.4675     11.557      1.598      0.110      -4.186      41.121\n",
      "==============================================================================\n",
      "Omnibus:                      329.323   Durbin-Watson:                   2.020\n",
      "Prob(Omnibus):                  0.000   Jarque-Bera (JB):              148.323\n",
      "Skew:                           0.089   Prob(JB):                     6.20e-33\n",
      "Kurtosis:                       2.357   Cond. No.                     2.51e+18\n",
      "==============================================================================\n",
      "\n",
      "Notes:\n",
      "[1] Standard Errors assume that the covariance matrix of the errors is correctly specified.\n",
      "[2] The smallest eigenvalue is 1.5e-26. This might indicate that there are\n",
      "strong multicollinearity problems or that the design matrix is singular.\n"
     ]
    }
   ],
   "source": [
    "import statsmodels.api as sm\n",
    "X_train_const = sm.add_constant(X_train)\n",
    "model = sm.OLS(y_train, X_train_const)\n",
    "results = model.fit()\n",
    "\n",
    "print(results.summary())"
   ]
  },
  {
   "cell_type": "markdown",
   "metadata": {},
   "source": [
    "`cookType_microwave` and `cookType_stove` are insignificant at the 5% level $(p>0.05)$. This implies that whether or not an individual cooks with either of these appliances does not make a significant difference to their overall emissions level."
   ]
  },
  {
   "cell_type": "markdown",
   "metadata": {},
   "source": [
    "## Conclusions Based on the Model"
   ]
  },
  {
   "cell_type": "markdown",
   "metadata": {},
   "source": [
    "- An increase in showering frequency leads to a 12 unit increase in carbon emissions.\n",
    "- A one dollar increase in monthly grocery costs leads to a 0.9 unit increase in carbon emissions.\n",
    "- An increase in frequency of air travel leads to a 216 unit increase in carbon emissions.\n",
    "- A one kilometer increase in distance travelled by vehicle in the past month leads to a 0.2 unit increase in carbon emissions.\n",
    "- Having one more waste bag per week leads to an 85 unit increase in carbon emissions.\n",
    "- A one hour increase in screen time per day leads to a 3 unit increase in carbon emissions.\n",
    "- Buying one extra item of clothing per month leads to a 13.5 unit increase in carbon emissions.\n",
    "- A one hour increase in time spent on the internet leads to a 6.5 unit increase in carbon emissions.\n",
    "- An increase in energy efficiency leads to a 35 unit reduction in carbon emissions.\n",
    "- Relative to those with a normal BMI, obese and overweight people are likely to create more carbon emissions (by 424 and 206 units respectively) while underweight people are likely to emit 116 units less.\n",
    "- Being male leads to a 329 unit increase in carbon emissions relative to being female.\n",
    "- Relative to omnivores, vegans, vegetarians and pescetarians create less carbon emissions (by 142, 124 and 80 units respectively), making a vegan lifestyle the most sustainable and an omnivorous one the least sustainable.\n",
    "- Relative to coal heated households, electric, natural gas and wood heated households create less carbon emissions (by 426, 203 and 194 units respectively), making electricity the most sustainable heating source and coal the least sustainable.\n",
    "- Relative to those who use private transport, those who use public transport or those who walk/cycle create less carbon emissions (by 188 and 65 units respectively), making public transport the most sustainable travel option and private transport the least sustainable.\n",
    "- Relative to those who never socialise, those who socialise sometimes and often create more carbon emissions (by 78 and 165 units respectively).\n",
    "- Relative to those with extra large waste bags, those who use large, medium and small waste bags create less carbon emissions (by 118, 271 and 382 units respectively).\n",
    "- For those who use vehicles, those who drive disesl, LPG or petrol cars create more carbon emissions than those who do not use cars (by 392, 462 and 951 units respectively), while those who use hybrid or electric cars create less carbon emissions (by 97 and 910 units respectively), making electric cars the most sustainable vehicle option and petrol cars the least sustainable.\n",
    "- Relative to those who do not recycle, those who recycle plastic, glass, metal and paper create less carbon emissions (by 66, 95, 119 and 137 units respectively), meaning each category of waste an individual recycles makes their lifestyle more sustainable.\n",
    "- Relative to those who do not cook, those who use air fryers, grills and ovens create more emissions (by 18, 18 and 51 units respectively), while using a microwave or stove does not significantly impact the amount of emissions an individual creates. This implies using a microwave or stove are the most sustainable cooking options (besides not cooking at all), while using an oven is the least sustainable."
   ]
  },
  {
   "cell_type": "markdown",
   "metadata": {},
   "source": [
    "# Stratifying the model\n",
    "One solution to deal with the significant right skew of the `monthlyVehicle` column, which may be the cause for the bimodal distribution of the residuals, is to create different regressions based on the values in the `transport` column, as these largely dictate the distance travelled by vehicle."
   ]
  },
  {
   "cell_type": "code",
   "execution_count": 34,
   "metadata": {},
   "outputs": [
    {
     "name": "stdout",
     "output_type": "stream",
     "text": [
      "Mean Absolute Error: 518.2188809876957\n",
      " Mean Squared Error: 371715.2222459049\n",
      " R Squared: 0.7420335119977728\n"
     ]
    },
    {
     "data": {
      "image/png": "[encoded data removed]",
      "text/plain": [
       "<Figure size 640x480 with 1 Axes>"
      ]
     },
     "metadata": {},
     "output_type": "display_data"
    },
    {
     "name": "stdout",
     "output_type": "stream",
     "text": [
      "Mean Absolute Error: 445.76404482321556\n",
      " Mean Squared Error: 217417.08934718044\n",
      " R Squared: 0.5552421267796948\n"
     ]
    },
    {
     "data": {
      "image/png": "[encoded data removed]",
      "text/plain": [
       "<Figure size 640x480 with 1 Axes>"
      ]
     },
     "metadata": {},
     "output_type": "display_data"
    },
    {
     "name": "stdout",
     "output_type": "stream",
     "text": [
      "Mean Absolute Error: 442.11478417137357\n",
      " Mean Squared Error: 213002.7152897667\n",
      " R Squared: 0.5179965220834842\n"
     ]
    },
    {
     "data": {
      "image/png": "[encoded data removed]",
      "text/plain": [
       "<Figure size 640x480 with 1 Axes>"
      ]
     },
     "metadata": {},
     "output_type": "display_data"
    }
   ],
   "source": [
    "df_private = df[(df['transport_public'] == 0) & (df['transport_walk/bicycle'] == 0)]\n",
    "df_public = df[df['transport_public'] == 1]\n",
    "df_walk_bicycle = df[df['transport_walk/bicycle'] == 1]\n",
    "\n",
    "def create_and_train_model(df):\n",
    "    X = df.drop('carbonEmission', axis=1)\n",
    "    y = df['carbonEmission']\n",
    "\n",
    "    X_train, X_test, y_train, y_test = train_test_split(X, y, test_size=0.2, random_state=42)\n",
    "\n",
    "    lr = LinearRegression()\n",
    "    lr.fit(X_train, y_train)\n",
    "    y_pred = lr.predict(X_test)\n",
    "    residuals = y_test - y_pred\n",
    "    mae = mean_absolute_error(y_test, y_pred)\n",
    "    mse = mean_squared_error(y_test, y_pred)\n",
    "    r2 = r2_score(y_test, y_pred)\n",
    "    \n",
    "    print(f'Mean Absolute Error: {mae}\\n Mean Squared Error: {mse}\\n R Squared: {r2}')\n",
    "    \n",
    "    sns.histplot(residuals, bins=30, kde=True)\n",
    "    plt.show()\n",
    "    \n",
    "    return lr, y_pred, residuals, mae, mse, r2\n",
    "\n",
    "lr_private = create_and_train_model(df_private)\n",
    "lr_public = create_and_train_model(df_public)\n",
    "lr_walk_bicycle = create_and_train_model(df_walk_bicycle)"
   ]
  },
  {
   "cell_type": "markdown",
   "metadata": {},
   "source": [
    "# Implementing a Random Forest Regressor\n",
    "As the normality assumption is violated in this model, using a random forest regressor would be advantageous as this does not require residuals to be normally distributed."
   ]
  },
  {
   "cell_type": "code",
   "execution_count": 35,
   "metadata": {},
   "outputs": [
    {
     "data": {
      "text/plain": [
       "0.9181419001993766"
      ]
     },
     "execution_count": 35,
     "metadata": {},
     "output_type": "execute_result"
    }
   ],
   "source": [
    "from sklearn.ensemble import RandomForestRegressor\n",
    "\n",
    "rf = RandomForestRegressor(random_state=42)\n",
    "\n",
    "rf.fit(X_train, y_train)\n",
    "y_pred_rf = rf.predict(X_test)\n",
    "\n",
    "rf_score = r2_score(y_test, y_pred_rf)\n",
    "\n",
    "rf_score"
   ]
  },
  {
   "cell_type": "code",
   "execution_count": 36,
   "metadata": {},
   "outputs": [
    {
     "data": {
      "text/plain": [
       "GridSearchCV(cv=5, estimator=RandomForestRegressor(),\n",
       "             param_grid={'max_features': [10, 20, 30, 40],\n",
       "                         'n_estimators': [50, 100, 200]},\n",
       "             return_train_score=True, scoring='neg_mean_squared_error')"
      ]
     },
     "execution_count": 36,
     "metadata": {},
     "output_type": "execute_result"
    }
   ],
   "source": [
    "from sklearn.model_selection import GridSearchCV\n",
    "forest = RandomForestRegressor()\n",
    "param_grid = {\n",
    "    'n_estimators': [50, 100, 200],\n",
    "    'max_features': [10, 20, 30, 40]\n",
    "}\n",
    "\n",
    "grid_search = GridSearchCV(forest, param_grid, cv=5, scoring='neg_mean_squared_error', return_train_score=True)\n",
    "grid_search.fit(X_train, y_train)"
   ]
  },
  {
   "cell_type": "code",
   "execution_count": 37,
   "metadata": {},
   "outputs": [
    {
     "data": {
      "text/plain": [
       "RandomForestRegressor(max_features=20, n_estimators=200)"
      ]
     },
     "execution_count": 37,
     "metadata": {},
     "output_type": "execute_result"
    }
   ],
   "source": [
    "grid_search.best_estimator_"
   ]
  },
  {
   "cell_type": "code",
   "execution_count": 38,
   "metadata": {},
   "outputs": [
    {
     "data": {
      "text/plain": [
       "0.9213607501321094"
      ]
     },
     "execution_count": 38,
     "metadata": {},
     "output_type": "execute_result"
    }
   ],
   "source": [
    "grid_search.best_estimator_.score(X_test, y_test)"
   ]
  }
 ],
 "metadata": {
  "_draft": {
   "nbviewer_url": "https://gist.github.com/CharlieJones2/c599989634b46bc1770eb15b71e1515d"
  },
  "gist": {
   "data": {
    "description": "OneDrive/Programming/Projects/Carbon Footprint/carbonFootprint.ipynb",
    "public": true
   },
   "id": "c599989634b46bc1770eb15b71e1515d"
  },
  "kernelspec": {
   "display_name": "Python 3 (ipykernel)",
   "language": "python",
   "name": "python3"
  },
  "language_info": {
   "codemirror_mode": {
    "name": "ipython",
    "version": 3
   },
   "file_extension": ".py",
   "mimetype": "text/x-python",
   "name": "python",
   "nbconvert_exporter": "python",
   "pygments_lexer": "ipython3",
   "version": "3.9.13"
  }
 },
 "nbformat": 4,
 "nbformat_minor": 2
}
